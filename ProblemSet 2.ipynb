{
 "cells": [
  {
   "cell_type": "markdown",
   "metadata": {},
   "source": [
    "# QUESTION 1"
   ]
  },
  {
   "cell_type": "code",
   "execution_count": 19,
   "metadata": {},
   "outputs": [
    {
     "name": "stdout",
     "output_type": "stream",
     "text": [
      "6\n"
     ]
    }
   ],
   "source": [
    "a = 0\n",
    "def b():\n",
    "    global a\n",
    "    a = c(a)\n",
    "def c(a):\n",
    "    return a + 2\n",
    "b() #here b function is called for the first time, and initially a value is 0, after b function is called the return value is 2 and thus a = 2 \n",
    "b() #b function is called for the second time, and previous value of a is 2, and now value is a + 2 that is a = 4\n",
    "b() #b function is called for the third time, and thus the value of a becomes 6 \n",
    "print(a)"
   ]
  },
  {
   "cell_type": "markdown",
   "metadata": {},
   "source": [
    "# QUESTION 2"
   ]
  },
  {
   "cell_type": "code",
   "execution_count": 3,
   "metadata": {},
   "outputs": [
    {
     "name": "stdout",
     "output_type": "stream",
     "text": [
      "6\n"
     ]
    }
   ],
   "source": [
    "import os\n",
    "def file_length(file_name): #renamed the filename.txt to midterm.py\n",
    "    if not os.path.exists(file_name): #checks if the file exists\n",
    "        print(\"File\", file_name, \"is not found\")\n",
    "    else:\n",
    "        file = open(file_name, 'r').readlines() #opens the file and read lines\n",
    "        contents = len(file)\n",
    "        print(contents)\n",
    "file_length(\"midterm.py\")"
   ]
  },
  {
   "cell_type": "markdown",
   "metadata": {},
   "source": [
    "# QUESTION 3"
   ]
  },
  {
   "cell_type": "code",
   "execution_count": 18,
   "metadata": {},
   "outputs": [
    {
     "name": "stdout",
     "output_type": "stream",
     "text": [
      "['doll', 'firetruck', 'kitten']\n",
      "I am a Kangaroo located at coordinates (0, 0)\n",
      "['doll', 'firetruck', 'kitten']\n",
      "I am a Kangaroo located at coordinates (3, 0)\n"
     ]
    }
   ],
   "source": [
    "class Marsupial: #Class Marsupial is formed\n",
    "    def __init__(self): #constructor is defined \n",
    "        self.pouch = [] #pouch is defined\n",
    "    def put_in_pouch(self, item):\n",
    "        self.pouch.append(item)\n",
    "    def pouch_contents(self):\n",
    "        return self.pouch\n",
    "\n",
    "m = Marsupial() #m = Marsupial is implemented\n",
    "m.put_in_pouch('doll') #doll is added to the list\n",
    "m.put_in_pouch('firetruck') #firetruck is added to the list\n",
    "m.put_in_pouch('kitten') #kitten is added to the list\n",
    "print(m.pouch_contents()) #printing the contents in the list\n",
    "\n",
    "\n",
    "class Kangaroo(Marsupial): #subclass of marsupial, kangaroo is defined\n",
    "    def __init__(self, x, y):\n",
    "        Marsupial.__init__(self)\n",
    "        self.x = x\n",
    "        self.y = y\n",
    "    def jump(self, dx, dy):\n",
    "        self.x += dx\n",
    "        self.y += dy\n",
    "    def __str__(self):\n",
    "        return \"I am a Kangaroo located at coordinates ({}, {})\".format(self.x, self.y)\n",
    "    \n",
    "k = Kangaroo(0,0)\n",
    "print(k)\n",
    "k.put_in_pouch('doll') #doll is added to the list\n",
    "k.put_in_pouch('firetruck') #firetruck is added to the list\n",
    "k.put_in_pouch('kitten') #kitten is added to the list\n",
    "print(k.pouch_contents())\n",
    "k.jump(1,0)  #kangaroo jumps to 1, 0 coordinates\n",
    "k.jump(1,0)\n",
    "k.jump(1,0)\n",
    "print(k)"
   ]
  },
  {
   "cell_type": "markdown",
   "metadata": {},
   "source": [
    "# QUESTION 4"
   ]
  },
  {
   "cell_type": "code",
   "execution_count": 16,
   "metadata": {},
   "outputs": [
    {
     "name": "stdout",
     "output_type": "stream",
     "text": [
      "1\n"
     ]
    }
   ],
   "source": [
    "def collatz(x):\n",
    "    while x != 1:\n",
    "        print(x)\n",
    "        if x % 2 == 0:\n",
    "            x = x // 2\n",
    "        else:\n",
    "            x = 3 * x + 1\n",
    "    print(x)\n",
    "collatz(1)\n",
    "\n"
   ]
  },
  {
   "cell_type": "code",
   "execution_count": 17,
   "metadata": {},
   "outputs": [
    {
     "name": "stdout",
     "output_type": "stream",
     "text": [
      "10\n",
      "5\n",
      "16\n",
      "8\n",
      "4\n",
      "2\n",
      "1\n"
     ]
    }
   ],
   "source": [
    "collatz(10)"
   ]
  },
  {
   "cell_type": "markdown",
   "metadata": {},
   "source": [
    "# QUESTION 5"
   ]
  },
  {
   "cell_type": "code",
   "execution_count": 14,
   "metadata": {},
   "outputs": [
    {
     "name": "stdout",
     "output_type": "stream",
     "text": [
      "0\n",
      "1\n",
      "11\n",
      "1001\n"
     ]
    }
   ],
   "source": [
    "def binary(n):\n",
    "    if n == 0:\n",
    "        return 0\n",
    "    else:\n",
    "        return n % 2 + 10 * binary(n // 2)\n",
    "print(binary(0))\n",
    "print(binary(1))\n",
    "print(binary(3))\n",
    "print(binary(9))\n"
   ]
  },
  {
   "cell_type": "markdown",
   "metadata": {},
   "source": [
    "# QUESTION 6"
   ]
  },
  {
   "cell_type": "code",
   "execution_count": 6,
   "metadata": {},
   "outputs": [
    {
     "name": "stdout",
     "output_type": "stream",
     "text": [
      "W3C Mission\n",
      "Principles\n"
     ]
    }
   ],
   "source": [
    "from html.parser import HTMLParser\n",
    "from urllib.request import urlopen\n",
    "\n",
    "from bs4 import BeautifulSoup\n",
    "import requests\n",
    "\n",
    "\n",
    "\n",
    "class HeadingParser(HTMLParser):\n",
    "    headers = ['h1', 'h2', 'h3', 'h4', 'h5', 'h6']\n",
    "    def handle_starttag(self, tag, attrs):\n",
    "        if tag in self.headers:\n",
    "            pass\n",
    "    def handle_data(self, tag):\n",
    "        if tag in self.headers:\n",
    "            pass\n",
    "    def handle_endtag(self, data):\n",
    "        pass\n",
    "\n",
    "infile = open('w3c.html', 'r')\n",
    "content = infile.read()\n",
    "infile.close()\n",
    "\n",
    "hp = HeadingParser()\n",
    "hp.feed(content)\n",
    "soup = BeautifulSoup(content, \"html.parser\")\n",
    "print(soup.find('h1').text)\n",
    "print(soup.find('h2').text)"
   ]
  },
  {
   "cell_type": "markdown",
   "metadata": {},
   "source": [
    "# QUESTION 7"
   ]
  },
  {
   "cell_type": "code",
   "execution_count": 20,
   "metadata": {},
   "outputs": [
    {
     "name": "stdout",
     "output_type": "stream",
     "text": [
      "http://reed.cs.depaul.edu/\n",
      "https://www.cdm.depaul.edu\n",
      " https://www.cdm.depaul.edu\n",
      "http://go.depaul.edu/covid\n",
      "  http://go.depaul.edu/covid\n",
      "http://www.depaul.edu\n",
      "  http://www.depaul.edu\n",
      "https://my.cdm.depaul.edu/v2\n",
      "  https://my.cdm.depaul.edu/v2\n",
      "https://campusconnect.depaul.edu/\n",
      "  https://campusconnect.depaul.edu/\n",
      "https://d2l.depaul.edu\n",
      "  https://d2l.depaul.edu\n",
      "https://depaul.starfishsolutions.com/starfish-ops\n",
      "  https://depaul.starfishsolutions.com/starfish-ops\n",
      "https://academics.depaul.edu/calendar/Pages/default.aspx\n",
      "  https://academics.depaul.edu/calendar/Pages/default.aspx\n",
      "https://academics.depaul.edu/calendar/Pages/finals-calendar.aspx\n",
      "  https://academics.depaul.edu/calendar/Pages/finals-calendar.aspx\n",
      "https://securelb.imodules.com/s/1906/19/interior.aspx?sid=1906&gid=2&pgid=853&cid=2668\n",
      "  https://securelb.imodules.com/s/1906/19/interior.aspx?sid=1906&gid=2&pgid=853&cid=2668\n",
      "https://www.depaul.edu/apply/Pages/default.aspx\n",
      "  https://www.depaul.edu/apply/Pages/default.aspx\n",
      "https://securelb.imodules.com/s/1906/19/interior.aspx?sid=1906&gid=2&pgid=853&cid=2668\n",
      "  https://securelb.imodules.com/s/1906/19/interior.aspx?sid=1906&gid=2&pgid=853&cid=2668\n",
      "https://www.depaul.edu/apply/Pages/default.aspx\n",
      "  https://www.depaul.edu/apply/Pages/default.aspx\n",
      "https://my.cdm.depaul.edu/v2\n",
      "  https://my.cdm.depaul.edu/v2\n",
      "https://campusconnect.depaul.edu/\n",
      "  https://campusconnect.depaul.edu/\n",
      "https://d2l.depaul.edu\n",
      "  https://d2l.depaul.edu\n",
      "https://depaul.starfishsolutions.com/starfish-ops\n",
      "  https://depaul.starfishsolutions.com/starfish-ops\n",
      "https://academics.depaul.edu/calendar/Pages/default.aspx\n",
      "  https://academics.depaul.edu/calendar/Pages/default.aspx\n",
      "https://academics.depaul.edu/calendar/Pages/finals-calendar.aspx\n",
      "  https://academics.depaul.edu/calendar/Pages/finals-calendar.aspx\n",
      "https://www.depaul.edu/apply/Pages/default.aspx\n",
      "  https://www.depaul.edu/apply/Pages/default.aspx\n",
      "https://alumni.depaul.edu/GiveNow/Home?id=78\n",
      "  https://alumni.depaul.edu/GiveNow/Home?id=78\n",
      "https://vimeo.com/234708656\n",
      "  https://vimeo.com/234708656\n",
      "https://resources.depaul.edu/newsline/sections/campus-and-community/Pages/virtual_production.aspx\n",
      "  https://resources.depaul.edu/newsline/sections/campus-and-community/Pages/virtual_production.aspx\n",
      "https://www.fox32chicago.com/news/depaul-film-students-using-technology-only-available-in-hollywood\n",
      "  https://www.fox32chicago.com/news/depaul-film-students-using-technology-only-available-in-hollywood\n",
      "https://resources.depaul.edu/newsline/sections/campus-and-community/Pages/aguirre-ramaraj-genome.aspx\n",
      "  https://resources.depaul.edu/newsline/sections/campus-and-community/Pages/aguirre-ramaraj-genome.aspx\n",
      "https://resources.depaul.edu/newsline/sections/debuzz/Pages/game_design_rankings_2022.aspx\n",
      "  https://resources.depaul.edu/newsline/sections/debuzz/Pages/game_design_rankings_2022.aspx\n",
      "https://academics.depaul.edu/calendar/Pages/default.aspx\n",
      "  https://academics.depaul.edu/calendar/Pages/default.aspx\n",
      "https://d2l.depaul.edu/\n",
      "  https://d2l.depaul.edu/\n",
      "http://www.depaul.edu/apply\n",
      "  http://www.depaul.edu/apply\n",
      "http://www.depaul.edu\n",
      "  http://www.depaul.edu\n",
      "http://goo.gl/maps/ip5b\n",
      "  http://goo.gl/maps/ip5b\n",
      "http://www.facebook.com/CDMDePaul\n",
      "  http://www.facebook.com/CDMDePaul\n",
      "http://twitter.com/CDMDePaul\n",
      "  http://twitter.com/CDMDePaul\n",
      "https://www.linkedin.com/school/22315245/\n",
      "  https://www.linkedin.com/school/22315245/\n",
      "https://www.instagram.com/cdmdepaul/\n",
      "  https://www.instagram.com/cdmdepaul/\n",
      "https://my.cdm.depaul.edu/v2\n",
      "  https://my.cdm.depaul.edu/v2\n",
      "https://d2l.depaul.edu/\n",
      "  https://d2l.depaul.edu/\n",
      "https://campusconnect.depaul.edu/\n",
      "  https://campusconnect.depaul.edu/\n",
      "https://securelb.imodules.com/s/1906/19/interior.aspx?sid=1906&gid=2&pgid=853&cid=2668\n",
      "  https://securelb.imodules.com/s/1906/19/interior.aspx?sid=1906&gid=2&pgid=853&cid=2668\n"
     ]
    }
   ],
   "source": [
    "from bs4 import BeautifulSoup, SoupStrainer  # import BeautifulSoup from bs4 import BeautifulSoup, SoupStrainer  \n",
    "import urllib.request #import urllib.request\n",
    "import httplib2 # import the httplib2 module\n",
    "\n",
    "\n",
    "def webdir(url, depth, indent):  # define the function webdir\n",
    "    print(\" \" *indent + url) # print the url\n",
    "    if depth == 0: # if depth is 0, return\n",
    "        return\n",
    "    result = [] # create a list to store the urls\n",
    "    http = httplib2.Http() # create a http object\n",
    "    status, response = http.request(url) # get the response from the url\n",
    "    for i in BeautifulSoup(response, parse_only=SoupStrainer('a'), features=\"html.parser\"): # parse the response\n",
    "        if i.has_attr('href'): # if the response has a href attribute\n",
    "            if i['href'][:5] == \"http:\" or i['href'][:5] == \"https\": # if the href attribute starts with http or https\n",
    "                result.append(i['href']) # append the href attribute to the list\n",
    "    \n",
    "    for urls in result: # for each url in the list\n",
    "        print(urls) # print the url \n",
    "        webdir(urls, depth-1, indent+1) # call the function again with the url, depth - 1, and indent + 1\n",
    "\n",
    "webdir('http://reed.cs.depaul.edu/', 2, 0) # call the function with the url, depth, and indent"
   ]
  },
  {
   "cell_type": "markdown",
   "metadata": {},
   "source": [
    "# QUESTION 8"
   ]
  },
  {
   "cell_type": "code",
   "execution_count": 53,
   "metadata": {},
   "outputs": [
    {
     "data": {
      "text/plain": [
       "<sqlite3.Cursor at 0x242321dc810>"
      ]
     },
     "execution_count": 53,
     "metadata": {},
     "output_type": "execute_result"
    }
   ],
   "source": [
    "import sqlite3\n",
    "con = sqlite3.connect('web1.db')\n",
    "cur = con.cursor()\n",
    "cur.execute(\"CREATE TABLE database(City VARCHAR,Country VARCHAR,Season VARCHAR,Temperature FLOAT, Rainfall FLOAT)\")\n"
   ]
  },
  {
   "cell_type": "code",
   "execution_count": 54,
   "metadata": {},
   "outputs": [
    {
     "data": {
      "text/plain": [
       "<sqlite3.Cursor at 0x242321dc810>"
      ]
     },
     "execution_count": 54,
     "metadata": {},
     "output_type": "execute_result"
    }
   ],
   "source": [
    "cur.execute(\"INSERT INTO database VALUES('Mumbai','India','Winter',24.8,5.9)\")\n",
    "cur.execute(\"INSERT INTO database VALUES('Mumbai','India','Spring',28.4,16.2)\")\n",
    "cur.execute(\"INSERT INTO database VALUES('Mumbai','India','Summer',27.9,1549.4)\")\n",
    "cur.execute(\"INSERT INTO database VALUES('Mumbai','India','Fall',27.6,346.0)\")\n",
    "cur.execute(\"INSERT INTO database VALUES('London','United Kingdom','Winter',4.2,207.7)\")\n",
    "cur.execute(\"INSERT INTO database VALUES('London','United Kingdom','Spring',8.3,169.6)\")\n",
    "cur.execute(\"INSERT INTO database VALUES('London','United Kingdom','Summer',15.7,157.0)\")\n",
    "cur.execute(\"INSERT INTO database VALUES('London','United Kingdom','Fall',10.4,218.5)\")\n",
    "cur.execute(\"INSERT INTO database VALUES('Cairo','Egypt','Winter',13.6,16.5)\")\n",
    "cur.execute(\"INSERT INTO database VALUES('Cairo','Egypt','Spring',20.7,6.5)\")\n",
    "cur.execute(\"INSERT INTO database VALUES('Cairo','Egypt','Summer',27.7,0.1)\")\n",
    "cur.execute(\"INSERT INTO database VALUES('Cairo','Egypt','Fall',22.2,4.5)\")\n"
   ]
  },
  {
   "cell_type": "code",
   "execution_count": 55,
   "metadata": {},
   "outputs": [
    {
     "data": {
      "text/plain": [
       "[('Mumbai', 'India', 'Winter', 24.8, 5.9),\n",
       " ('Mumbai', 'India', 'Spring', 28.4, 16.2),\n",
       " ('Mumbai', 'India', 'Summer', 27.9, 1549.4),\n",
       " ('Mumbai', 'India', 'Fall', 27.6, 346.0),\n",
       " ('London', 'United Kingdom', 'Winter', 4.2, 207.7),\n",
       " ('London', 'United Kingdom', 'Spring', 8.3, 169.6),\n",
       " ('London', 'United Kingdom', 'Summer', 15.7, 157.0),\n",
       " ('London', 'United Kingdom', 'Fall', 10.4, 218.5),\n",
       " ('Cairo', 'Egypt', 'Winter', 13.6, 16.5),\n",
       " ('Cairo', 'Egypt', 'Spring', 20.7, 6.5),\n",
       " ('Cairo', 'Egypt', 'Summer', 27.7, 0.1),\n",
       " ('Cairo', 'Egypt', 'Fall', 22.2, 4.5)]"
      ]
     },
     "execution_count": 55,
     "metadata": {},
     "output_type": "execute_result"
    }
   ],
   "source": [
    "cur.execute(\"SELECT * FROM database\")\n",
    "cur.fetchall()"
   ]
  },
  {
   "cell_type": "code",
   "execution_count": 57,
   "metadata": {},
   "outputs": [
    {
     "data": {
      "text/plain": [
       "[(24.8,),\n",
       " (28.4,),\n",
       " (27.9,),\n",
       " (27.6,),\n",
       " (4.2,),\n",
       " (8.3,),\n",
       " (15.7,),\n",
       " (10.4,),\n",
       " (13.6,),\n",
       " (20.7,),\n",
       " (27.7,),\n",
       " (22.2,)]"
      ]
     },
     "execution_count": 57,
     "metadata": {},
     "output_type": "execute_result"
    }
   ],
   "source": [
    "cur.execute(\"SELECT Temperature FROM database\")\n",
    "cur.fetchall()"
   ]
  },
  {
   "cell_type": "code",
   "execution_count": 59,
   "metadata": {},
   "outputs": [
    {
     "data": {
      "text/plain": [
       "[('Mumbai',), ('London',), ('Cairo',)]"
      ]
     },
     "execution_count": 59,
     "metadata": {},
     "output_type": "execute_result"
    }
   ],
   "source": [
    "cur.execute(\"SELECT DISTINCT City FROM database\")\n",
    "cur.fetchall()"
   ]
  },
  {
   "cell_type": "code",
   "execution_count": 60,
   "metadata": {},
   "outputs": [
    {
     "data": {
      "text/plain": [
       "[('Mumbai', 'India', 'Winter', 24.8, 5.9),\n",
       " ('Mumbai', 'India', 'Spring', 28.4, 16.2),\n",
       " ('Mumbai', 'India', 'Summer', 27.9, 1549.4),\n",
       " ('Mumbai', 'India', 'Fall', 27.6, 346.0)]"
      ]
     },
     "execution_count": 60,
     "metadata": {},
     "output_type": "execute_result"
    }
   ],
   "source": [
    "cur.execute(\"SELECT * FROM database WHERE Country='India'\")\n",
    "cur.fetchall()\n"
   ]
  },
  {
   "cell_type": "code",
   "execution_count": 61,
   "metadata": {},
   "outputs": [
    {
     "data": {
      "text/plain": [
       "[('Mumbai', 'India', 'Fall', 27.6, 346.0),\n",
       " ('London', 'United Kingdom', 'Fall', 10.4, 218.5),\n",
       " ('Cairo', 'Egypt', 'Fall', 22.2, 4.5)]"
      ]
     },
     "execution_count": 61,
     "metadata": {},
     "output_type": "execute_result"
    }
   ],
   "source": [
    "cur.execute(\"SELECT * FROM database WHERE Season='Fall'\")\n",
    "cur.fetchall()"
   ]
  },
  {
   "cell_type": "code",
   "execution_count": 62,
   "metadata": {},
   "outputs": [
    {
     "data": {
      "text/plain": [
       "[('Mumbai', 'India', 'Fall'),\n",
       " ('London', 'United Kingdom', 'Winter'),\n",
       " ('London', 'United Kingdom', 'Fall')]"
      ]
     },
     "execution_count": 62,
     "metadata": {},
     "output_type": "execute_result"
    }
   ],
   "source": [
    "\n",
    "cur.execute(\"SELECT City,Country,Season FROM database WHERE Rainfall BETWEEN 200 AND 400\")\n",
    "cur.fetchall()"
   ]
  },
  {
   "cell_type": "code",
   "execution_count": 63,
   "metadata": {},
   "outputs": [
    {
     "data": {
      "text/plain": [
       "[('Cairo', 'Egypt'),\n",
       " ('Cairo', 'Egypt'),\n",
       " ('Mumbai', 'India'),\n",
       " ('Mumbai', 'India'),\n",
       " ('Cairo', 'Egypt'),\n",
       " ('Mumbai', 'India'),\n",
       " ('Mumbai', 'India')]"
      ]
     },
     "execution_count": 63,
     "metadata": {},
     "output_type": "execute_result"
    }
   ],
   "source": [
    "\n",
    "cur.execute(\"SELECT City,Country FROM database WHERE Temperature >20 ORDER BY Temperature\")\n",
    "cur.fetchall()"
   ]
  },
  {
   "cell_type": "code",
   "execution_count": 64,
   "metadata": {},
   "outputs": [
    {
     "data": {
      "text/plain": [
       "[(27.6,)]"
      ]
     },
     "execution_count": 64,
     "metadata": {},
     "output_type": "execute_result"
    }
   ],
   "source": [
    "\n",
    "cur.execute(\"SELECT SUM(Rainfall) AS Total_anuual_rainfall_Cairo FROM database WHERE City='Cairo'\")\n",
    "cur.fetchall()"
   ]
  },
  {
   "cell_type": "code",
   "execution_count": 66,
   "metadata": {},
   "outputs": [
    {
     "data": {
      "text/plain": [
       "[('Fall', 569.0),\n",
       " ('Spring', 192.29999999999998),\n",
       " ('Summer', 1706.5),\n",
       " ('Winter', 230.1)]"
      ]
     },
     "execution_count": 66,
     "metadata": {},
     "output_type": "execute_result"
    }
   ],
   "source": [
    "cur.execute(\"SELECT Season,SUM(Rainfall) AS Total_Rainfall FROM database GROUP BY Season\")\n",
    "cur.fetchall()"
   ]
  },
  {
   "cell_type": "markdown",
   "metadata": {},
   "source": [
    "# QUESTION 9"
   ]
  },
  {
   "cell_type": "code",
   "execution_count": 7,
   "metadata": {},
   "outputs": [
    {
     "name": "stdout",
     "output_type": "stream",
     "text": [
      "['THE', 'QUICK', 'BROWN', 'FOX', 'JUMPS', 'OVER', 'THE', 'LAZY', 'DOG']\n"
     ]
    }
   ],
   "source": [
    "words = ['The', 'quick', 'brown', 'fox', 'jumps', 'over',\n",
    "'the', 'lazy', 'dog']\n",
    "\n",
    "capital = []\n",
    "for i in range(len(words)):\n",
    "    capital.append(words[i].upper())\n",
    "print(capital)"
   ]
  },
  {
   "cell_type": "code",
   "execution_count": 8,
   "metadata": {},
   "outputs": [
    {
     "name": "stdout",
     "output_type": "stream",
     "text": [
      "['the', 'quick', 'brown', 'fox', 'jumps', 'over', 'the', 'lazy', 'dog']\n"
     ]
    }
   ],
   "source": [
    "lowercase = []\n",
    "for i in range(len(words)):\n",
    "    lowercase.append(words[i].lower())\n",
    "print(lowercase)"
   ]
  },
  {
   "cell_type": "code",
   "execution_count": 9,
   "metadata": {},
   "outputs": [
    {
     "name": "stdout",
     "output_type": "stream",
     "text": [
      "[3, 5, 5, 3, 5, 4, 3, 4, 3]\n"
     ]
    }
   ],
   "source": [
    "length = []\n",
    "for i in range(len(words)):\n",
    "    length.append(len(words[i]))\n",
    "print(length)"
   ]
  },
  {
   "cell_type": "code",
   "execution_count": 12,
   "metadata": {},
   "outputs": [
    {
     "name": "stdout",
     "output_type": "stream",
     "text": [
      "[['THE', 'the', 3], ['QUICK', 'quick', 5], ['BROWN', 'brown', 5], ['FOX', 'fox', 3], ['JUMPS', 'jumps', 5], ['OVER', 'over', 4], ['THE', 'the', 3], ['LAZY', 'lazy', 4], ['DOG', 'dog', 3]]\n"
     ]
    }
   ],
   "source": [
    "new = []\n",
    "for i in range(len(words)):\n",
    "    z = [words[i].upper(), words[i].lower(), len(words[i])]\n",
    "    new.append(z)\n",
    "print(new)\n",
    "    "
   ]
  },
  {
   "cell_type": "code",
   "execution_count": 13,
   "metadata": {},
   "outputs": [
    {
     "name": "stdout",
     "output_type": "stream",
     "text": [
      "['quick', 'brown', 'jumps', 'over', 'lazy']\n"
     ]
    }
   ],
   "source": [
    "morethan4 = []\n",
    "for i in range(len(words)):\n",
    "    if len(words[i]) >= 4:\n",
    "        morethan4.append(words[i])\n",
    "print(morethan4)\n",
    "        "
   ]
  }
 ],
 "metadata": {
  "kernelspec": {
   "display_name": "Python 3 (ipykernel)",
   "language": "python",
   "name": "python3"
  },
  "language_info": {
   "codemirror_mode": {
    "name": "ipython",
    "version": 3
   },
   "file_extension": ".py",
   "mimetype": "text/x-python",
   "name": "python",
   "nbconvert_exporter": "python",
   "pygments_lexer": "ipython3",
   "version": "3.9.12"
  }
 },
 "nbformat": 4,
 "nbformat_minor": 4
}
